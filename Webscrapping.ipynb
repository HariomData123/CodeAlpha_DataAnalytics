{
 "cells": [
  {
   "cell_type": "code",
   "execution_count": 75,
   "id": "001ee832-9441-42a1-b9e5-f7570cd69918",
   "metadata": {},
   "outputs": [],
   "source": [
    "import pandas as pd"
   ]
  },
  {
   "cell_type": "code",
   "execution_count": 76,
   "id": "273aebf5-3642-4257-b89d-e9fd60384f49",
   "metadata": {},
   "outputs": [],
   "source": [
    "import numpy as np   "
   ]
  },
  {
   "cell_type": "code",
   "execution_count": 77,
   "id": "36ce14ed-4f40-4a93-af04-d59432c0ecca",
   "metadata": {},
   "outputs": [],
   "source": [
    "from bs4 import BeautifulSoup"
   ]
  },
  {
   "cell_type": "code",
   "execution_count": 78,
   "id": "15369bc9-a6cf-406d-9bf0-66eaf16bce36",
   "metadata": {},
   "outputs": [],
   "source": [
    "import requests"
   ]
  },
  {
   "cell_type": "code",
   "execution_count": 79,
   "id": "c3417385-f883-42c4-bfd7-cd4d37960d55",
   "metadata": {},
   "outputs": [],
   "source": [
    "url = \"https://www.iplt20.com/auction/2022\"\n",
    "r = requests.get(url)\n",
    "#print(r)"
   ]
  },
  {
   "cell_type": "code",
   "execution_count": 80,
   "id": "10b95c74-0e5d-4cb2-bf87-744b08f3b6d1",
   "metadata": {},
   "outputs": [],
   "source": [
    "soup = BeautifulSoup(r.text,\"lxml\")"
   ]
  },
  {
   "cell_type": "code",
   "execution_count": 81,
   "id": "6b42f70d-44a1-4633-962c-029d5e5d5558",
   "metadata": {},
   "outputs": [],
   "source": [
    "table = soup.find(\"table\", class_ = \"ih-td-tab w-100 auction-tbl\")\n",
    "title = table.find_all(\"th\")\n",
    "#print(title)\n",
    "#print(table)\n",
    "header = []\n",
    "for i in title:\n",
    "    name = i.text  # Use .strip() to clean whitespace\n",
    "    header.append(name)\n",
    "#print(header)"
   ]
  },
  {
   "cell_type": "code",
   "execution_count": 82,
   "id": "11d933ba-4303-4853-9d70-84d82df57d86",
   "metadata": {},
   "outputs": [],
   "source": [
    "df=pd.DataFrame(columns=header)\n",
    "#print(df)"
   ]
  },
  {
   "cell_type": "code",
   "execution_count": 83,
   "id": "72fdf352-eb60-4b0a-a951-40dddd2c30b6",
   "metadata": {},
   "outputs": [
    {
     "name": "stdout",
     "output_type": "stream",
     "text": [
      "   SR. NO.                         TEAM FUNDS REMAINING OVERSEAS PLAYERS   \\\n",
      "21       1          Chennai Super Kings    ₹2,95,00,000                 8   \n",
      "22       2               Delhi Capitals      ₹10,00,000                 7   \n",
      "23       3               Gujarat Titans      ₹15,00,000                 8   \n",
      "24       4        Kolkata Knight Riders      ₹45,00,000                 8   \n",
      "25       5         Lucknow Super Giants              ₹0                 7   \n",
      "26       6               Mumbai Indians      ₹10,00,000                 8   \n",
      "27       7                 Punjab Kings    ₹3,45,00,000                 7   \n",
      "28       8             Rajasthan Royals      ₹95,00,000                 8   \n",
      "29       9  Royal Challengers Bangalore    ₹1,55,00,000                 8   \n",
      "30      10          Sunrisers Hyderabad      ₹10,00,000                 8   \n",
      "\n",
      "   TOTAL PLAYERS  \n",
      "21            25  \n",
      "22            24  \n",
      "23            23  \n",
      "24            25  \n",
      "25            21  \n",
      "26            25  \n",
      "27            25  \n",
      "28            24  \n",
      "29            22  \n",
      "30            23  \n"
     ]
    }
   ],
   "source": [
    "# Option 1: Add None check with fallback\n",
    "rows = table.find_all(\"tr\")\n",
    "for i in rows[1:]:\n",
    "    first_td_element = i.find_all(\"td\")[0].find(\"div\", class_=\"ih-pt-ic\")\n",
    "    if first_td_element:\n",
    "        first_td = first_td_element.text.strip()\n",
    "    else:\n",
    "        # Fallback: get text from the td directly or use alternative selector\n",
    "        first_td = i.find_all(\"td\")[0].text.strip()\n",
    "    \n",
    "    data = i.find_all(\"td\")[1:]\n",
    "    row = [tr.text.strip() for tr in data]\n",
    "    row.insert(0, first_td)\n",
    "    df.loc[l] = row\n",
    "    l+= 1  # Don't forget to increment l\n",
    "\n",
    "print(df)\n"
   ]
  },
  {
   "cell_type": "code",
   "execution_count": 84,
   "id": "4d3e646d-4e1a-4b93-87c9-d62b86fffeb0",
   "metadata": {},
   "outputs": [],
   "source": [
    "df.to_csv(\"ipl auction stats.csv\")"
   ]
  },
  {
   "cell_type": "code",
   "execution_count": null,
   "id": "5fcb06f3-c776-45da-a887-ed14c18872be",
   "metadata": {},
   "outputs": [],
   "source": []
  }
 ],
 "metadata": {
  "kernelspec": {
   "display_name": "Python 3 (ipykernel)",
   "language": "python",
   "name": "python3"
  },
  "language_info": {
   "codemirror_mode": {
    "name": "ipython",
    "version": 3
   },
   "file_extension": ".py",
   "mimetype": "text/x-python",
   "name": "python",
   "nbconvert_exporter": "python",
   "pygments_lexer": "ipython3",
   "version": "3.13.5"
  }
 },
 "nbformat": 4,
 "nbformat_minor": 5
}
