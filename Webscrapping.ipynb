{
 "cells": [
  {
   "cell_type": "code",
   "execution_count": 61,
   "id": "001ee832-9441-42a1-b9e5-f7570cd69918",
   "metadata": {},
   "outputs": [],
   "source": [
    "import pandas as pd"
   ]
  },
  {
   "cell_type": "code",
   "execution_count": 62,
   "id": "273aebf5-3642-4257-b89d-e9fd60384f49",
   "metadata": {},
   "outputs": [],
   "source": [
    "import numpy as np   "
   ]
  },
  {
   "cell_type": "code",
   "execution_count": 63,
   "id": "36ce14ed-4f40-4a93-af04-d59432c0ecca",
   "metadata": {},
   "outputs": [],
   "source": [
    "from bs4 import BeautifulSoup"
   ]
  },
  {
   "cell_type": "code",
   "execution_count": 64,
   "id": "15369bc9-a6cf-406d-9bf0-66eaf16bce36",
   "metadata": {},
   "outputs": [],
   "source": [
    "import requests"
   ]
  },
  {
   "cell_type": "code",
   "execution_count": 65,
   "id": "c3417385-f883-42c4-bfd7-cd4d37960d55",
   "metadata": {},
   "outputs": [],
   "source": [
    "url = \"https://www.iplt20.com/auction/2022\"\n",
    "r = requests.get(url)\n",
    "#print(r)"
   ]
  },
  {
   "cell_type": "code",
   "execution_count": 66,
   "id": "10b95c74-0e5d-4cb2-bf87-744b08f3b6d1",
   "metadata": {},
   "outputs": [],
   "source": [
    "soup = BeautifulSoup(r.text,\"lxml\")"
   ]
  },
  {
   "cell_type": "code",
   "execution_count": 67,
   "id": "6b42f70d-44a1-4633-962c-029d5e5d5558",
   "metadata": {},
   "outputs": [],
   "source": [
    "table = soup.find(\"table\", class_ = \"ih-td-tab w-100 auction-tbl\")\n",
    "title = table.find_all(\"th\")\n",
    "#print(title)\n",
    "#print(table)\n",
    "header = []\n",
    "for i in title:\n",
    "    name = i.text  # Use .strip() to clean whitespace\n",
    "    header.append(name)\n",
    "#print(header)"
   ]
  },
  {
   "cell_type": "code",
   "execution_count": 68,
   "id": "11d933ba-4303-4853-9d70-84d82df57d86",
   "metadata": {},
   "outputs": [],
   "source": [
    "df=pd.DataFrame(columns=header)\n",
    "#print(df)"
   ]
  },
  {
   "cell_type": "code",
   "execution_count": 73,
   "id": "72fdf352-eb60-4b0a-a951-40dddd2c30b6",
   "metadata": {},
   "outputs": [
    {
     "name": "stdout",
     "output_type": "stream",
     "text": [
      "    SR. NO.                         TEAM FUNDS REMAINING OVERSEAS PLAYERS   \\\n",
      "119       1          Chennai Super Kings    ₹2,95,00,000                 8   \n",
      "120       2               Delhi Capitals      ₹10,00,000                 7   \n",
      "121       3               Gujarat Titans      ₹15,00,000                 8   \n",
      "122       4        Kolkata Knight Riders      ₹45,00,000                 8   \n",
      "123       5         Lucknow Super Giants              ₹0                 7   \n",
      "124       6               Mumbai Indians      ₹10,00,000                 8   \n",
      "125       7                 Punjab Kings    ₹3,45,00,000                 7   \n",
      "126       8             Rajasthan Royals      ₹95,00,000                 8   \n",
      "127       9  Royal Challengers Bangalore    ₹1,55,00,000                 8   \n",
      "128      10          Sunrisers Hyderabad      ₹10,00,000                 8   \n",
      "129       1          Chennai Super Kings    ₹2,95,00,000                 8   \n",
      "130       2               Delhi Capitals      ₹10,00,000                 7   \n",
      "131       3               Gujarat Titans      ₹15,00,000                 8   \n",
      "132       4        Kolkata Knight Riders      ₹45,00,000                 8   \n",
      "133       5         Lucknow Super Giants              ₹0                 7   \n",
      "134       6               Mumbai Indians      ₹10,00,000                 8   \n",
      "135       7                 Punjab Kings    ₹3,45,00,000                 7   \n",
      "136       8             Rajasthan Royals      ₹95,00,000                 8   \n",
      "137       9  Royal Challengers Bangalore    ₹1,55,00,000                 8   \n",
      "138      10          Sunrisers Hyderabad      ₹10,00,000                 8   \n",
      "139       1          Chennai Super Kings    ₹2,95,00,000                 8   \n",
      "1         1          Chennai Super Kings    ₹2,95,00,000                 8   \n",
      "2         2               Delhi Capitals      ₹10,00,000                 7   \n",
      "3         3               Gujarat Titans      ₹15,00,000                 8   \n",
      "4         4        Kolkata Knight Riders      ₹45,00,000                 8   \n",
      "5         5         Lucknow Super Giants              ₹0                 7   \n",
      "6         6               Mumbai Indians      ₹10,00,000                 8   \n",
      "7         7                 Punjab Kings    ₹3,45,00,000                 7   \n",
      "8         8             Rajasthan Royals      ₹95,00,000                 8   \n",
      "9         9  Royal Challengers Bangalore    ₹1,55,00,000                 8   \n",
      "10       10          Sunrisers Hyderabad      ₹10,00,000                 8   \n",
      "\n",
      "    TOTAL PLAYERS  \n",
      "119            25  \n",
      "120            24  \n",
      "121            23  \n",
      "122            25  \n",
      "123            21  \n",
      "124            25  \n",
      "125            25  \n",
      "126            24  \n",
      "127            22  \n",
      "128            23  \n",
      "129            25  \n",
      "130            24  \n",
      "131            23  \n",
      "132            25  \n",
      "133            21  \n",
      "134            25  \n",
      "135            25  \n",
      "136            24  \n",
      "137            22  \n",
      "138            23  \n",
      "139            25  \n",
      "1              25  \n",
      "2              24  \n",
      "3              23  \n",
      "4              25  \n",
      "5              21  \n",
      "6              25  \n",
      "7              25  \n",
      "8              24  \n",
      "9              22  \n",
      "10             23  \n"
     ]
    }
   ],
   "source": [
    "# Option 1: Add None check with fallback\n",
    "rows = table.find_all(\"tr\")\n",
    "for i in rows[1:]:\n",
    "    first_td_element = i.find_all(\"td\")[0].find(\"div\", class_=\"ih-pt-ic\")\n",
    "    if first_td_element:\n",
    "        first_td = first_td_element.text.strip()\n",
    "    else:\n",
    "        # Fallback: get text from the td directly or use alternative selector\n",
    "        first_td = i.find_all(\"td\")[0].text.strip()\n",
    "    \n",
    "    data = i.find_all(\"td\")[1:]\n",
    "    row = [tr.text.strip() for tr in data]\n",
    "    row.insert(0, first_td)\n",
    "    df.loc[l] = row\n",
    "    l+= 1  # Don't forget to increment l\n",
    "\n",
    "print(df)\n",
    "\n",
    "df.to_csv(\"ipl auction stats.csv\")"
   ]
  }
 ],
 "metadata": {
  "kernelspec": {
   "display_name": "Python 3 (ipykernel)",
   "language": "python",
   "name": "python3"
  },
  "language_info": {
   "codemirror_mode": {
    "name": "ipython",
    "version": 3
   },
   "file_extension": ".py",
   "mimetype": "text/x-python",
   "name": "python",
   "nbconvert_exporter": "python",
   "pygments_lexer": "ipython3",
   "version": "3.13.5"
  }
 },
 "nbformat": 4,
 "nbformat_minor": 5
}
